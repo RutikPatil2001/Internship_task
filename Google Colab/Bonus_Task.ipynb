{
  "nbformat": 4,
  "nbformat_minor": 0,
  "metadata": {
    "colab": {
      "name": "Bonus_Task.ipynb",
      "provenance": [],
      "collapsed_sections": [],
      "authorship_tag": "ABX9TyOYFfT6trgYP5XnL5RXLTjV",
      "include_colab_link": true
    },
    "kernelspec": {
      "name": "python3",
      "display_name": "Python 3"
    },
    "language_info": {
      "name": "python"
    }
  },
  "cells": [
    {
      "cell_type": "markdown",
      "metadata": {
        "id": "view-in-github",
        "colab_type": "text"
      },
      "source": [
        "<a href=\"https://colab.research.google.com/github/RutikPatil2001/Internship_task/blob/main/Google%20Colab/Bonus_Task.ipynb\" target=\"_parent\"><img src=\"https://colab.research.google.com/assets/colab-badge.svg\" alt=\"Open In Colab\"/></a>"
      ]
    },
    {
      "cell_type": "code",
      "execution_count": null,
      "metadata": {
        "id": "T3-t0V9-0uxd"
      },
      "outputs": [],
      "source": [
        "from PIL import Image\n",
        "from pytesseract import pytesseract\n",
        "import requests # to get image from the web\n",
        "import shutil # to save it locally\n",
        "import requests\n",
        "from bs4 import BeautifulSoup\n",
        "\n",
        "\n",
        "HEADERS = ({'User-Agent':'Mozilla/5.0 (X11; Linux x86_64) AppleWebKit/537.36 (KHTML, like Gecko Chrome/44.0.2403.157 Safari/537.36','Accept-Language': 'en-US, en;q=0.5'})\n",
        "\n",
        "url = 'https://www.amazon.com/errors/validateCaptcha'\n",
        "\n",
        "# Getting url of image to download\n",
        "page = requests.get(url, headers=HEADERS)\n",
        "soup1 = BeautifulSoup(page.content, \"html.parser\")\n",
        "soup2 = BeautifulSoup(soup1.prettify(), \"html.parser\")\n",
        "\n",
        "try:\n",
        "    img_url = soup2.find('img').get_attribute_list('src')\n",
        "except:\n",
        "    img_url = None\n",
        "image_url = \"\"\n",
        "\n",
        "for i in img_url:\n",
        "    image_url+=i\n",
        "\n",
        "# Downloading the images\n",
        "filename = image_url.split(\"/\")[-1]\n",
        "r = requests.get(image_url, stream = True)\n",
        "\n",
        "if r.status_code == 200: \n",
        "    r.raw.decode_content = True\n",
        "    with open(filename,'wb') as f:\n",
        "        shutil.copyfileobj(r.raw, f)\n",
        "else:  \n",
        "    pass\n",
        "\n",
        "\n",
        "# Extracting text from image\n",
        "path_to_tesseract = r'C:\\Program Files\\Tesseract-OCR\\tesseract.exe'\n",
        "path_to_image = filename\n",
        "pytesseract.tesseract_cmd = path_to_tesseract\n",
        "img = Image.open(path_to_image)\n",
        "text = pytesseract.image_to_string(img)\n",
        "\n",
        "print(text)"
      ]
    },
    {
      "cell_type": "markdown",
      "source": [
        "Captcha Text are given in images, so extracting text from images ."
      ],
      "metadata": {
        "id": "qr3KTDgv1iMz"
      }
    }
  ]
}