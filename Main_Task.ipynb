{
  "nbformat": 4,
  "nbformat_minor": 0,
  "metadata": {
    "colab": {
      "name": "Main_Task.ipynb",
      "provenance": [],
      "collapsed_sections": [],
      "authorship_tag": "ABX9TyNdaScPthzmef1T6O+uJsWc",
      "include_colab_link": true
    },
    "kernelspec": {
      "name": "python3",
      "display_name": "Python 3"
    },
    "language_info": {
      "name": "python"
    }
  },
  "cells": [
    {
      "cell_type": "markdown",
      "metadata": {
        "id": "view-in-github",
        "colab_type": "text"
      },
      "source": [
        "<a href=\"https://colab.research.google.com/github/RutikPatil2001/Internship_task/blob/main/Main_Task.ipynb\" target=\"_parent\"><img src=\"https://colab.research.google.com/assets/colab-badge.svg\" alt=\"Open In Colab\"/></a>"
      ]
    },
    {
      "cell_type": "code",
      "source": [
        "import requests\n",
        "from bs4 import BeautifulSoup\n",
        "import json\n",
        "import mysql.connector\n",
        "\n",
        "list_of_url = [\"https://www.amazon.de/dp/000108173X\",\n",
        "               \"https://www.amazon.de/dp/000108142X\",\n",
        "               \"https://www.amazon.fr/dp/000108173X\",\n",
        "               \"https://www.amazon.fr/dp/000108142X\",\n",
        "               \"https://www.amazon.fr/dp/000102163X\",\n",
        "               \"https://www.amazon.de/dp/000102163X\"]\n",
        "\n",
        "HEADERS = ({'User-Agent':'Mozilla/5.0 (X11; Linux x86_64) AppleWebKit/537.36 (KHTML, like Gecko Chrome/44.0.2403.157 Safari/537.36','Accept-Language': 'en-US, en;q=0.5'})\n",
        "\n",
        "output_list = []\n",
        "for url in list_of_url:\n",
        "    page = requests.get(url, headers=HEADERS)\n",
        "    soup1 = BeautifulSoup(page.content, \"html.parser\")\n",
        "    soup2 = BeautifulSoup(soup1.prettify(), \"html.parser\")\n",
        "\n",
        "    try:\n",
        "        title = soup2.find(id='productTitle').get_text()\n",
        "    except :\n",
        "        title = None\n",
        "\n",
        "    try:\n",
        "        price = soup2.find(\"a\",{'class':'a-size-mini a-link-normal'}).get_text()\n",
        "    except :\n",
        "        price = None\n",
        "\n",
        "    try:\n",
        "        details = soup2.find(id='detailBullets_feature_div').get_text()\n",
        "    except:\n",
        "        try:\n",
        "            details = soup2.find(id='productDescription').get_text()\n",
        "        except:\n",
        "            details = None\n",
        "\n",
        "    try:\n",
        "        img_url = soup2.find(id='imgBlkFront').get_attribute_list('src')\n",
        "    except:\n",
        "        img_url = None\n",
        "    \n",
        "    title = title.strip()\n",
        "    price = price.replace('\\n','')\n",
        "    price = price.strip()[15:]\n",
        "    details = details.replace('\\n','')\n",
        "    \n",
        "    dic = {'Product Title':title, 'Product Image URL':img_url,'Price of the Product':price.replace('   ',''),'Product Details':details.replace('   ','')}\n",
        "    output_list.append(dic)\n",
        "    \n",
        "\n",
        "json_object = json.dumps(output_list, indent=4)\n",
        "with open(\"sample.json\", \"w\") as outfile:\n",
        "        outfile.write(json_object)\n",
        "\n",
        "\n",
        "mydb = mysql.connector.connect(user='root', password='Patil',host='127.0.0.1',database='demo',)\n",
        "mycursor = mydb.cursor()\n",
        "\n",
        "try :\n",
        "    for mydict in output_list:\n",
        "        placeholders = ', '.join(['%s'] * len(mydict))\n",
        "        values = ', '.join(\"'\" + str(x).replace('/', '_') + \"'\" for x in mydict.values())\n",
        "        sql = \"INSERT INTO internship_task (Product_Title,Product_Image_URL,Price_of_the_Product,Product_Details ) VALUES ( %s );\" % (values)\n",
        "        mycursor.execute(sql)\n",
        "        mydb.commit()\n",
        "        print(mycursor.rowcount, \"was inserted.\")\n",
        "except:\n",
        "    print(\"Unable to store value in database\")\n"
      ],
      "metadata": {
        "id": "gbJ81lEHz0Ts"
      },
      "execution_count": null,
      "outputs": []
    },
    {
      "cell_type": "markdown",
      "source": [
        ""
      ],
      "metadata": {
        "id": "IsEKPbGh0ekU"
      }
    }
  ]
}